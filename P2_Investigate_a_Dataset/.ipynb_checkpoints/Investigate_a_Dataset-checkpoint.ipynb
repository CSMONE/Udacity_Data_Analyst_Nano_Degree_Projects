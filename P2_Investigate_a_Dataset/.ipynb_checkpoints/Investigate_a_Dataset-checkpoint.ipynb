{
 "cells": [
  {
   "cell_type": "markdown",
   "metadata": {},
   "source": [
    "# Introduction of this report\n",
    "   This report makes some investigations of the titanic dataset. It can be divided into three parts:       \n",
    "   ** 1. Some overall descriptions of the dataset.**    \n",
    "   ** 2. Investigations of correlations between whether passengers survived or not and some other variables. **  \n",
    "   ** 3. Investigating the difference of age distributions in three passenger classes **  "
   ]
  },
  {
   "cell_type": "markdown",
   "metadata": {},
   "source": [
    "## 1. Overall descriptions of the dataset\n",
    "\n",
    "First, I load the csv file into a pandas dataframe. Here is the code:"
   ]
  },
  {
   "cell_type": "code",
   "execution_count": 9,
   "metadata": {
    "collapsed": false
   },
   "outputs": [
    {
     "name": "stdout",
     "output_type": "stream",
     "text": [
      "891\n"
     ]
    }
   ],
   "source": [
    "import pandas as pd\n",
    "import warnings\n",
    "warnings.filterwarnings(\"ignore\")\n",
    "\n",
    "titanic_df = pd.read_csv('titanic-data.csv')\n",
    "print len(titanic_df)"
   ]
  },
  {
   "cell_type": "code",
   "execution_count": 10,
   "metadata": {
    "collapsed": false
   },
   "outputs": [
    {
     "data": {
      "text/html": [
       "<div>\n",
       "<table border=\"1\" class=\"dataframe\">\n",
       "  <thead>\n",
       "    <tr style=\"text-align: right;\">\n",
       "      <th></th>\n",
       "      <th>PassengerId</th>\n",
       "      <th>Survived</th>\n",
       "      <th>Pclass</th>\n",
       "      <th>Name</th>\n",
       "      <th>Sex</th>\n",
       "      <th>Age</th>\n",
       "      <th>SibSp</th>\n",
       "      <th>Parch</th>\n",
       "      <th>Ticket</th>\n",
       "      <th>Fare</th>\n",
       "      <th>Cabin</th>\n",
       "      <th>Embarked</th>\n",
       "    </tr>\n",
       "  </thead>\n",
       "  <tbody>\n",
       "    <tr>\n",
       "      <th>0</th>\n",
       "      <td>1</td>\n",
       "      <td>0</td>\n",
       "      <td>3</td>\n",
       "      <td>Braund, Mr. Owen Harris</td>\n",
       "      <td>male</td>\n",
       "      <td>22.0</td>\n",
       "      <td>1</td>\n",
       "      <td>0</td>\n",
       "      <td>A/5 21171</td>\n",
       "      <td>7.2500</td>\n",
       "      <td>NaN</td>\n",
       "      <td>S</td>\n",
       "    </tr>\n",
       "    <tr>\n",
       "      <th>1</th>\n",
       "      <td>2</td>\n",
       "      <td>1</td>\n",
       "      <td>1</td>\n",
       "      <td>Cumings, Mrs. John Bradley (Florence Briggs Th...</td>\n",
       "      <td>female</td>\n",
       "      <td>38.0</td>\n",
       "      <td>1</td>\n",
       "      <td>0</td>\n",
       "      <td>PC 17599</td>\n",
       "      <td>71.2833</td>\n",
       "      <td>C85</td>\n",
       "      <td>C</td>\n",
       "    </tr>\n",
       "    <tr>\n",
       "      <th>2</th>\n",
       "      <td>3</td>\n",
       "      <td>1</td>\n",
       "      <td>3</td>\n",
       "      <td>Heikkinen, Miss. Laina</td>\n",
       "      <td>female</td>\n",
       "      <td>26.0</td>\n",
       "      <td>0</td>\n",
       "      <td>0</td>\n",
       "      <td>STON/O2. 3101282</td>\n",
       "      <td>7.9250</td>\n",
       "      <td>NaN</td>\n",
       "      <td>S</td>\n",
       "    </tr>\n",
       "    <tr>\n",
       "      <th>3</th>\n",
       "      <td>4</td>\n",
       "      <td>1</td>\n",
       "      <td>1</td>\n",
       "      <td>Futrelle, Mrs. Jacques Heath (Lily May Peel)</td>\n",
       "      <td>female</td>\n",
       "      <td>35.0</td>\n",
       "      <td>1</td>\n",
       "      <td>0</td>\n",
       "      <td>113803</td>\n",
       "      <td>53.1000</td>\n",
       "      <td>C123</td>\n",
       "      <td>S</td>\n",
       "    </tr>\n",
       "    <tr>\n",
       "      <th>4</th>\n",
       "      <td>5</td>\n",
       "      <td>0</td>\n",
       "      <td>3</td>\n",
       "      <td>Allen, Mr. William Henry</td>\n",
       "      <td>male</td>\n",
       "      <td>35.0</td>\n",
       "      <td>0</td>\n",
       "      <td>0</td>\n",
       "      <td>373450</td>\n",
       "      <td>8.0500</td>\n",
       "      <td>NaN</td>\n",
       "      <td>S</td>\n",
       "    </tr>\n",
       "  </tbody>\n",
       "</table>\n",
       "</div>"
      ],
      "text/plain": [
       "   PassengerId  Survived  Pclass  \\\n",
       "0            1         0       3   \n",
       "1            2         1       1   \n",
       "2            3         1       3   \n",
       "3            4         1       1   \n",
       "4            5         0       3   \n",
       "\n",
       "                                                Name     Sex   Age  SibSp  \\\n",
       "0                            Braund, Mr. Owen Harris    male  22.0      1   \n",
       "1  Cumings, Mrs. John Bradley (Florence Briggs Th...  female  38.0      1   \n",
       "2                             Heikkinen, Miss. Laina  female  26.0      0   \n",
       "3       Futrelle, Mrs. Jacques Heath (Lily May Peel)  female  35.0      1   \n",
       "4                           Allen, Mr. William Henry    male  35.0      0   \n",
       "\n",
       "   Parch            Ticket     Fare Cabin Embarked  \n",
       "0      0         A/5 21171   7.2500   NaN        S  \n",
       "1      0          PC 17599  71.2833   C85        C  \n",
       "2      0  STON/O2. 3101282   7.9250   NaN        S  \n",
       "3      0            113803  53.1000  C123        S  \n",
       "4      0            373450   8.0500   NaN        S  "
      ]
     },
     "execution_count": 10,
     "metadata": {},
     "output_type": "execute_result"
    }
   ],
   "source": [
    "titanic_df.head()"
   ]
  },
  {
   "cell_type": "markdown",
   "metadata": {},
   "source": [
    "We can see that there are 891 passengers' messages in the dataset.And we know what the dataframe looks like.  \n",
    "  \n",
    "Now let's have an overview for the dataset with three questions as follow:   \n",
    "** 1、What are the proportions of passengers from three ports ? **   \n",
    "** 2、What are the sex ratios of passengers ?  **  \n",
    "** 3、How is the distribution of age looks like ?  **  \n",
    "  \n",
    "The answers of those questions as follow:"
   ]
  },
  {
   "cell_type": "markdown",
   "metadata": {},
   "source": [
    "#### (1). Here are the code and result of computing the proportions of passengers from three ports:"
   ]
  },
  {
   "cell_type": "code",
   "execution_count": 11,
   "metadata": {
    "collapsed": false
   },
   "outputs": [
    {
     "name": "stdout",
     "output_type": "stream",
     "text": [
      "Populating the interactive namespace from numpy and matplotlib\n"
     ]
    },
    {
     "data": {
      "image/png": "[encoded data removed]",
      "text/plain": [
       "<matplotlib.figure.Figure at 0x10c178510>"
      ]
     },
     "metadata": {},
     "output_type": "display_data"
    }
   ],
   "source": [
    "%pylab inline\n",
    "\n",
    "import matplotlib.pyplot as plt\n",
    "\n",
    "# Select passengers' id and port, and drop the records that are nan.Then compute passengers' amount from different ports.\n",
    "Port_count = titanic_df[['PassengerId','Embarked']].dropna(axis=0).groupby('Embarked')['PassengerId'].count()\n",
    "\n",
    "#Draw a pie to show the proportions of passengers from three ports\n",
    "plt.pie(Port_count ,\n",
    "        colors=('y', 'g', 'c'),\n",
    "        labels =tuple(Port_count.index), autopct='%1.1f%%')\n",
    "plt.title('Proportions of Passengers From Three Ports')\n",
    "plt.show()"
   ]
  },
  {
   "cell_type": "markdown",
   "metadata": {},
   "source": [
    "From the pie, we can see that most passengers came from Southampton."
   ]
  },
  {
   "cell_type": "markdown",
   "metadata": {},
   "source": [
    "#### (2). Here are code and result of computing the sex ratios of passengers:"
   ]
  },
  {
   "cell_type": "code",
   "execution_count": 12,
   "metadata": {
    "collapsed": false
   },
   "outputs": [
    {
     "name": "stdout",
     "output_type": "stream",
     "text": [
      "Populating the interactive namespace from numpy and matplotlib\n"
     ]
    },
    {
     "data": {
      "image/png": "[encoded data removed]",
      "text/plain": [
       "<matplotlib.figure.Figure at 0x110561810>"
      ]
     },
     "metadata": {},
     "output_type": "display_data"
    }
   ],
   "source": [
    "%pylab inline\n",
    "\n",
    "# Select passengers' id and sex, drop the records that are nan.Then compute passengers' amount by sex.\n",
    "Sex_count = titanic_df[['PassengerId','Sex']].dropna(axis=0).groupby('Sex')['PassengerId'].count()\n",
    "\n",
    "#Draw a pie to show the sex ratios of passengers \n",
    "plt.pie(Sex_count ,\n",
    "        colors=('y', 'g'),\n",
    "        labels =tuple(Sex_count.index), autopct='%1.1f%%')\n",
    "plt.title('Sex Ratios')\n",
    "plt.show()"
   ]
  },
  {
   "cell_type": "markdown",
   "metadata": {},
   "source": [
    "From the pie, we can see that there were more male passengers on board than female"
   ]
  },
  {
   "cell_type": "markdown",
   "metadata": {},
   "source": [
    "#### (3). Here are code and result of computing the proportions of different pclasses:"
   ]
  },
  {
   "cell_type": "code",
   "execution_count": 13,
   "metadata": {
    "collapsed": false
   },
   "outputs": [
    {
     "name": "stdout",
     "output_type": "stream",
     "text": [
      "Populating the interactive namespace from numpy and matplotlib\n"
     ]
    },
    {
     "data": {
      "image/png": "[encoded data removed]",
      "text/plain": [
       "<matplotlib.figure.Figure at 0x1106f6250>"
      ]
     },
     "metadata": {},
     "output_type": "display_data"
    }
   ],
   "source": [
    "%pylab inline\n",
    "\n",
    "# Select passengers' id and pclass, drop the records with nan.Then compute passengers' amount by pclass.\n",
    "Pclass_count = titanic_df[['PassengerId','Pclass']].dropna(axis=0).groupby('Pclass')['PassengerId'].count()\n",
    "\n",
    "#Draw a pie to show the sex ratios of passengers \n",
    "plt.pie(Pclass_count ,\n",
    "        colors=('y', 'g','c'),\n",
    "        labels =tuple(Pclass_count.index), autopct='%1.1f%%')\n",
    "plt.title('Proportions of Different Pclasses')\n",
    "plt.show()"
   ]
  },
  {
   "cell_type": "markdown",
   "metadata": {},
   "source": [
    "From the pie, we can see that most passengers were in class 3."
   ]
  },
  {
   "cell_type": "markdown",
   "metadata": {},
   "source": [
    "#### (4). Here are code and result of computing the the distribution of age:"
   ]
  },
  {
   "cell_type": "markdown",
   "metadata": {},
   "source": [
    "First, we should know the maximum and minimum ages of the passengers."
   ]
  },
  {
   "cell_type": "code",
   "execution_count": 14,
   "metadata": {
    "collapsed": false
   },
   "outputs": [
    {
     "name": "stdout",
     "output_type": "stream",
     "text": [
      "max age: 80.0, min age: 0.42, average age: 29.6991176471\n"
     ]
    }
   ],
   "source": [
    "print 'max age: {}, min age: {}, average age: {}'.format(titanic_df['Age'].max(),titanic_df['Age'].min(),titanic_df['Age'].mean())"
   ]
  },
  {
   "cell_type": "markdown",
   "metadata": {},
   "source": [
    "Now, I will draw a histogram to see the distribution of age."
   ]
  },
  {
   "cell_type": "code",
   "execution_count": 15,
   "metadata": {
    "collapsed": false
   },
   "outputs": [
    {
     "name": "stdout",
     "output_type": "stream",
     "text": [
      "Populating the interactive namespace from numpy and matplotlib\n"
     ]
    },
    {
     "data": {
      "image/png": "[encoded data removed]",
      "text/plain": [
       "<matplotlib.figure.Figure at 0x1106ffc90>"
      ]
     },
     "metadata": {},
     "output_type": "display_data"
    }
   ],
   "source": [
    "#Draw a histogram to show the distribution of age \n",
    "%pylab inline\n",
    "plt.xlabel('Age')\n",
    "plt.ylabel('Frequency')\n",
    "plt.title('Histogram of Age')\n",
    "plt.hist(titanic_df['Age'], bins=8, range=(0,80))  # \n",
    "plt.show()"
   ]
  },
  {
   "cell_type": "markdown",
   "metadata": {},
   "source": [
    "We can see that the distribution of age looks like positive skew, which means that there were more young people than old people on board.  "
   ]
  },
  {
   "cell_type": "markdown",
   "metadata": {},
   "source": [
    "### Conclusion\n",
    "After an oveview of the dataset. We can say 1. most passengers  embarked at Southampton. 2. There were more males on board than females. 3.most passengers were in class 3 . 4. The average age was about 30, and  passengers were generally younger."
   ]
  },
  {
   "cell_type": "markdown",
   "metadata": {},
   "source": [
    "## 2. Correlations between whether passengers survived or not and some other variables\n",
    "\n",
    "In order to investigate the correlations, I have four questions as follow:  \n",
    "  \n",
    "** 1、Was survived or not related to their age ? If so, passengers of what age were most likely to be survived ? **   \n",
    "** 2、Was survived or not related to their sex ? If so, passengers of which sex were more likely to be survived ?  **  \n",
    "** 3、Was survived or not related to passenger class ? If so, passengers of which class were most likely to be survived ?  **  \n",
    "** 4、Was survived or not related to where they embarked ? If so, passengers embarked from which port were most likely to be survived ?  ** \n",
    "    \n",
    "The answers of those questions as follow:"
   ]
  },
  {
   "cell_type": "markdown",
   "metadata": {},
   "source": [
    "### (1). Here are code and result investigating the correlation between  survived or not and age.    \n",
    "  \n",
    "As survived or not is a categorical variable, I will use Chi-squared test to see if there is a correlation between these two variables.And set $\\alpha$ level at 0.05. Here is the hypothesis:  \n",
    "<script type=\"text/javascript\" src=\"http://cdn.mathjax.org/mathjax/latest/MathJax.js?config=default\"></script>\n",
    "$$H_0:\\textstyle\\ there\\ was\\ no\\ correlation\\ between\\ survived\\ or\\ not\\ and\\ age $$\n",
    "$$H_A:\\textstyle\\ there\\ was\\ a\\ correlation\\ between\\ survived\\ or\\ not\\ and\\ age $$\n",
    "  \n",
    "First, I divide passengers into 8 groups by age:[0,9),[10,19),[20,29),[30,39),[40,49),[50,59),[60,69),[70,80].Then compute the sum of survived people and unsurvived people in each group, and print out the contingency table.The code and result as follow:"
   ]
  },
  {
   "cell_type": "code",
   "execution_count": 16,
   "metadata": {
    "collapsed": false
   },
   "outputs": [
    {
     "data": {
      "text/html": [
       "<div>\n",
       "<table border=\"1\" class=\"dataframe\">\n",
       "  <thead>\n",
       "    <tr style=\"text-align: right;\">\n",
       "      <th></th>\n",
       "      <th>Survived</th>\n",
       "      <th>UnSurvived</th>\n",
       "      <th>Sum</th>\n",
       "    </tr>\n",
       "    <tr>\n",
       "      <th>Seg</th>\n",
       "      <th></th>\n",
       "      <th></th>\n",
       "      <th></th>\n",
       "    </tr>\n",
       "  </thead>\n",
       "  <tbody>\n",
       "    <tr>\n",
       "      <th>0-9</th>\n",
       "      <td>38</td>\n",
       "      <td>24</td>\n",
       "      <td>62</td>\n",
       "    </tr>\n",
       "    <tr>\n",
       "      <th>10-19</th>\n",
       "      <td>41</td>\n",
       "      <td>61</td>\n",
       "      <td>102</td>\n",
       "    </tr>\n",
       "    <tr>\n",
       "      <th>20-29</th>\n",
       "      <td>77</td>\n",
       "      <td>143</td>\n",
       "      <td>220</td>\n",
       "    </tr>\n",
       "    <tr>\n",
       "      <th>30-39</th>\n",
       "      <td>73</td>\n",
       "      <td>94</td>\n",
       "      <td>167</td>\n",
       "    </tr>\n",
       "    <tr>\n",
       "      <th>40-49</th>\n",
       "      <td>34</td>\n",
       "      <td>55</td>\n",
       "      <td>89</td>\n",
       "    </tr>\n",
       "    <tr>\n",
       "      <th>50-59</th>\n",
       "      <td>20</td>\n",
       "      <td>28</td>\n",
       "      <td>48</td>\n",
       "    </tr>\n",
       "    <tr>\n",
       "      <th>60-69</th>\n",
       "      <td>6</td>\n",
       "      <td>13</td>\n",
       "      <td>19</td>\n",
       "    </tr>\n",
       "    <tr>\n",
       "      <th>70-80</th>\n",
       "      <td>1</td>\n",
       "      <td>6</td>\n",
       "      <td>7</td>\n",
       "    </tr>\n",
       "    <tr>\n",
       "      <th>Sum</th>\n",
       "      <td>290</td>\n",
       "      <td>424</td>\n",
       "      <td>714</td>\n",
       "    </tr>\n",
       "  </tbody>\n",
       "</table>\n",
       "</div>"
      ],
      "text/plain": [
       "       Survived  UnSurvived  Sum\n",
       "Seg                             \n",
       "0-9          38          24   62\n",
       "10-19        41          61  102\n",
       "20-29        77         143  220\n",
       "30-39        73          94  167\n",
       "40-49        34          55   89\n",
       "50-59        20          28   48\n",
       "60-69         6          13   19\n",
       "70-80         1           6    7\n",
       "Sum         290         424  714"
      ]
     },
     "execution_count": 16,
     "metadata": {},
     "output_type": "execute_result"
    }
   ],
   "source": [
    "# Write a function: mapping age to the corresponding age group\n",
    "def age_segment(age):\n",
    "    if age >= 70 :\n",
    "        return '70-80'\n",
    "    elif age >=60 :\n",
    "        return '60-69'\n",
    "    elif age >=50 :\n",
    "        return '50-59'\n",
    "    elif age >=40 :\n",
    "        return '40-49'\n",
    "    elif age >=30 :\n",
    "        return '30-39'\n",
    "    elif age >=20 :\n",
    "        return '20-29'\n",
    "    elif age >=10 :\n",
    "        return '10-19'\n",
    "    elif age >=0 :\n",
    "        return '0-9'  \n",
    "    else:\n",
    "        return None\n",
    "# Combine age,segment of age, survived or not into a dataframe. Then drop records with nan. \n",
    "age_seg_tmp = pd.Series(titanic_df['Age'].dropna(axis=0).apply(age_segment),name ='Seg')  \n",
    "age_seg_df = pd.concat([titanic_df[['Age', 'Survived']].dropna(axis=0),age_seg_tmp],axis=1)\n",
    "\n",
    "# Write a function to gennerate a contingency table\n",
    "def Contingency_table(df,inde_var,de_var):    \n",
    "    de_var_group = df.groupby(inde_var)[de_var].sum()   \n",
    "    inde_var_group = df.groupby(inde_var)[de_var].count().rename('Sum') \n",
    "    op_de_var_group = ( inde_var_group -df.groupby(inde_var)[de_var].sum()).rename('Un'+de_var)\n",
    "    tmp = pd.concat([de_var_group,op_de_var_group,inde_var_group],axis=1)    \n",
    "    contingency = pd.concat([tmp,pd.DataFrame([tmp.sum()],index=['Sum'])],axis=0)  \n",
    "    return contingency\n",
    "\n",
    "# Use the function to gennerate the contingency table of age segment and survived or not \n",
    "age_survived_contingency = Contingency_table(age_seg_df,'Seg','Survived')\n",
    "age_survived_contingency"
   ]
  },
  {
   "cell_type": "markdown",
   "metadata": {},
   "source": [
    "Then, compute Chi-squared statistic with the following formula:\n",
    "  \n",
    "<script type=\"text/javascript\" src=\"http://cdn.mathjax.org/mathjax/latest/MathJax.js?config=default\"></script>\n",
    "$$\\chi^{2}=\\sum_{i=1}^{c}\\sum_{j=1}^{r}\\frac{(n_{ij}-E(n_{ij}))^2}{E(n_{ij})}$$\n",
    "In the formula, $n_{ij}$ equals the value in row i , column j of contingency table.\n",
    "$E(n_{ij})$ is the value of the expected value in row i , column j:  \n",
    "  \n",
    "$$E(n_{ij})=\\frac{n_i\\cdot n_j}{n}$$\n",
    "$n_i$ is the sum of row i in  contingency table , and $n_j$ is the sum of column j in  contingency table. n is the size of sample.    \n",
    "The code and result of compute the Chi-squared statistic as follow:"
   ]
  },
  {
   "cell_type": "code",
   "execution_count": 17,
   "metadata": {
    "collapsed": false
   },
   "outputs": [
    {
     "name": "stdout",
     "output_type": "stream",
     "text": [
      "17.4277216059\n"
     ]
    }
   ],
   "source": [
    "# Write a function to compute Chi-squared value\n",
    "def Compute_Chi2(contingency,n,m):\n",
    "    Chi = 0\n",
    "    for i in range(n):\n",
    "        for j in range(m):\n",
    "            E = 1.0*contingency.iloc[i,m] * contingency.iloc[n,j] / contingency.iloc[n,m]  # Compute expected value in row i , column j\n",
    "            Chi += (contingency.iloc[i,j] - E)**2 / E\n",
    "    return Chi\n",
    "\n",
    "#  Use the function to compute Chi-squared value of Chi2-test between age and  survived or not\n",
    "Chi_value_age = Compute_Chi2(age_survived_contingency,8,2)        \n",
    "print Chi_value_age     "
   ]
  },
  {
   "cell_type": "markdown",
   "metadata": {},
   "source": [
    "<script type=\"text/javascript\" src=\"http://cdn.mathjax.org/mathjax/latest/MathJax.js?config=default\"></script>\n",
    "As the freedom degree is (8-1)*(2-1)=7, the Chi-squared critical value: $\\chi_{0.05}^{2} = 14.0671$. Obviously, the value of  $\\chi^{2}$ we compute is larger than $\\chi_{0.05}^{2}$.So we can reject the null hypothesis, that means there was a correlation between survived or not and age  \n",
    "  \n",
    "Since we know that survived or not was related to age. Here is another question:  \n",
    "** Passengers of what age were most likely to be survived ? **  \n",
    "To answer this question, let's see the survived ratios of different ages.Here are code and result:"
   ]
  },
  {
   "cell_type": "code",
   "execution_count": 18,
   "metadata": {
    "collapsed": false,
    "scrolled": true
   },
   "outputs": [
    {
     "name": "stdout",
     "output_type": "stream",
     "text": [
      "Populating the interactive namespace from numpy and matplotlib\n"
     ]
    },
    {
     "data": {
      "image/png": "[encoded data removed]",
      "text/plain": [
       "<matplotlib.figure.Figure at 0x1106affd0>"
      ]
     },
     "metadata": {},
     "output_type": "display_data"
    }
   ],
   "source": [
    "%pylab inline\n",
    "\n",
    "# Compute survived ratios of each age segment\n",
    "age_seg_ratio = age_seg_df.groupby('Seg')['Survived'].sum() / age_seg_df.groupby('Seg')['Survived'].count()\n",
    "\n",
    "plt.xlabel('Age')\n",
    "plt.ylabel('Ratio')\n",
    "plt.title('Survived Ratio of Different Ages')\n",
    "plt.bar(range(8),age_seg_ratio,tick_label=tuple(age_seg_ratio.index),align ='center')\n",
    "plt.show()"
   ]
  },
  {
   "cell_type": "markdown",
   "metadata": {
    "collapsed": true
   },
   "source": [
    "From this chart, we could say that passengers younger than 10-year-old were most likely to be survived.  \n",
    "To verify this conclusion, I use z-test to compare group of [0,10) with [10,20),[20,30),[30,40),[40,50),[50,60),[60,70) respectively,and do not compare group of [0,10) with [70,80], because the sample size of [70,80] is too small.  \n",
    "Each comparation use this hypothesis:\n",
    "<script type=\"text/javascript\" src=\"http://cdn.mathjax.org/mathjax/latest/MathJax.js?config=default\"></script>\n",
    "$$H_0:p_0 = p_1 $$\n",
    "$$H_A:p_0 >= p_1 $$\n",
    "Set $\\alpha$ level as 0.05. In the case, $p_0$ represent the survived ratio of population with age in [0,10) , and  $p_1$ represent the survived ratio of other populations to be compared.\n",
    "Here is an example of comparing group [0,10) with group [10,20):"
   ]
  },
  {
   "cell_type": "markdown",
   "metadata": {},
   "source": [
    "<script type=\"text/javascript\" src=\"http://cdn.mathjax.org/mathjax/latest/MathJax.js?config=default\"></script>\n",
    "$$n_0 = 62, y_0 = 38 ,\\hat{p_0} = \\frac{y_0}{n_0} = 0.61 $$\n",
    "$$n_1 = 102, y_1 = 41 ,\\hat{p_1} = \\frac{y_1}{n_1} = 0.40 $$\n",
    "$$\\hat{p} = \\frac{y_0 + y_1}{n_0 + n_1} = 0.48, \\hat{q} = 1 - \\hat{p} = 0.52 $$\n",
    "$$\\sigma_{(\\hat{p_0}-\\hat{p_1})} \\approx \\sqrt{\\hat{p}\\hat{q}(\\frac{1}{n_0}+\\frac{1}{n_1})} = 0.08 $$\n",
    "$$Z= \\frac{\\hat{p_0} - \\hat{p_1}}{\\sigma_{(\\hat{p_0}-\\hat{p_1})}} = 6.5 $$  \n",
    "  \n",
    " $ z_{0.05} = 1.645 $, as $Z>z_{0.05}$, the null hypothesis should be rejected . We can conclude that passengers younger than 10-year-old were more likely to be survived than those between 10 and 20.  \n",
    "After doing the same test on group [0,10) with other groups, we can get the same conclusion. We can say that passengers younger than 10-year-old were most likely to be survived."
   ]
  },
  {
   "cell_type": "markdown",
   "metadata": {},
   "source": [
    "For the convenience of following computation, I write a funtion to compute the z statistic for ratio variable:"
   ]
  },
  {
   "cell_type": "code",
   "execution_count": 19,
   "metadata": {
    "collapsed": false
   },
   "outputs": [],
   "source": [
    "def z_stat_ratio_diff(n1,y1,n2,y2):\n",
    "    return (1.0*y1/n1-1.0*y2/n2)/pow(1.0*(y1+y2)/(n1+n2)*(n1+n2-y1-y2)/(n1+n2)*(1.0/n1+1.0/n2),0.5)"
   ]
  },
  {
   "cell_type": "markdown",
   "metadata": {},
   "source": [
    "### (2). Here are code and result investigating the correlation between survived or not and sex.  \n",
    "  \n",
    "I also use Chi-squared test with hypothesis:  \n",
    "<script type=\"text/javascript\" src=\"http://cdn.mathjax.org/mathjax/latest/MathJax.js?config=default\"></script>\n",
    "$$H_0:\\textstyle\\ there\\ was\\ no\\ correlation\\ between\\ survived\\ or\\ not\\ and\\ sex $$\n",
    "$$H_A:\\textstyle\\ there\\ was\\ a\\ correlation\\ between\\ survived\\ or\\ not\\ and\\ sex $$\n",
    "with $\\alpha$ level at 0.05.  \n",
    "The contingency table of these two variables is as follow:"
   ]
  },
  {
   "cell_type": "code",
   "execution_count": 20,
   "metadata": {
    "collapsed": false
   },
   "outputs": [
    {
     "data": {
      "text/html": [
       "<div>\n",
       "<table border=\"1\" class=\"dataframe\">\n",
       "  <thead>\n",
       "    <tr style=\"text-align: right;\">\n",
       "      <th></th>\n",
       "      <th>Survived</th>\n",
       "      <th>UnSurvived</th>\n",
       "      <th>Sum</th>\n",
       "    </tr>\n",
       "    <tr>\n",
       "      <th>Sex</th>\n",
       "      <th></th>\n",
       "      <th></th>\n",
       "      <th></th>\n",
       "    </tr>\n",
       "  </thead>\n",
       "  <tbody>\n",
       "    <tr>\n",
       "      <th>female</th>\n",
       "      <td>233</td>\n",
       "      <td>81</td>\n",
       "      <td>314</td>\n",
       "    </tr>\n",
       "    <tr>\n",
       "      <th>male</th>\n",
       "      <td>109</td>\n",
       "      <td>468</td>\n",
       "      <td>577</td>\n",
       "    </tr>\n",
       "    <tr>\n",
       "      <th>Sum</th>\n",
       "      <td>342</td>\n",
       "      <td>549</td>\n",
       "      <td>891</td>\n",
       "    </tr>\n",
       "  </tbody>\n",
       "</table>\n",
       "</div>"
      ],
      "text/plain": [
       "        Survived  UnSurvived  Sum\n",
       "Sex                              \n",
       "female       233          81  314\n",
       "male         109         468  577\n",
       "Sum          342         549  891"
      ]
     },
     "execution_count": 20,
     "metadata": {},
     "output_type": "execute_result"
    }
   ],
   "source": [
    "# Combine sex and survived or not into a dataframe. Then drop records with nan\n",
    "sex_cleaned_df = titanic_df[['Sex', 'Survived']].dropna(axis=0)\n",
    "\n",
    "# Use the function to gennerate the contingency table of sex and survived or not \n",
    "sex_survived_contingency = Contingency_table(sex_cleaned_df,'Sex','Survived')\n",
    "sex_survived_contingency"
   ]
  },
  {
   "cell_type": "markdown",
   "metadata": {},
   "source": [
    "Then compute the Chi-squared test statistic:"
   ]
  },
  {
   "cell_type": "code",
   "execution_count": 21,
   "metadata": {
    "collapsed": false
   },
   "outputs": [
    {
     "data": {
      "text/plain": [
       "263.05057407065567"
      ]
     },
     "execution_count": 21,
     "metadata": {},
     "output_type": "execute_result"
    }
   ],
   "source": [
    "#  Use the function to compute Chi-squared value of Chi2-test between sex and  survived or not\n",
    "Chi_value_sex = Compute_Chi2(sex_survived_contingency,2,2)        \n",
    "Chi_value_sex  "
   ]
  },
  {
   "cell_type": "markdown",
   "metadata": {},
   "source": [
    "<script type=\"text/javascript\" src=\"http://cdn.mathjax.org/mathjax/latest/MathJax.js?config=default\"></script>\n",
    "As the freedom degree is (2-1)*(2-1)=1, the Chi-squared critical value: $\\chi_{0.05}^{2} = 3.84$. Obviously, the value of  $\\chi^{2}$ we compute was larger than $\\chi_{0.05}^{2}$.So we can reject the null hypothesis, that means there was a correlation between survived or not and sex  \n",
    "  \n",
    "Since we know that survived or not was related to sex. Here is another question:  \n",
    "** Passengers of which sex were more likely to be survived ? **  \n",
    "To answer this question, let's see the survived ratios of different sex.Here are code and result:"
   ]
  },
  {
   "cell_type": "code",
   "execution_count": 22,
   "metadata": {
    "collapsed": false
   },
   "outputs": [
    {
     "data": {
      "text/plain": [
       "Sex\n",
       "female    0.742038\n",
       "male      0.188908\n",
       "Name: Survived, dtype: float64"
      ]
     },
     "execution_count": 22,
     "metadata": {},
     "output_type": "execute_result"
    }
   ],
   "source": [
    "# Compute survived ratios of each sex\n",
    "sex_survived_ratio = sex_cleaned_df.groupby('Sex')['Survived'].sum() / sex_cleaned_df.groupby('Sex')['Survived'].count()\n",
    "sex_survived_ratio"
   ]
  },
  {
   "cell_type": "markdown",
   "metadata": {},
   "source": [
    "From this chart, we could say that females were more likely to be survived.  \n",
    "To verify this conclusion, I again use z-test with hypothesis:\n",
    "<script type=\"text/javascript\" src=\"http://cdn.mathjax.org/mathjax/latest/MathJax.js?config=default\"></script>\n",
    "$$H_0:p_0 = p_1 $$\n",
    "$$H_A:p_0 >= p_1 $$\n",
    "Set $\\alpha$ level as 0.05. In the case, $p_0$ represent the survived ratio of female population, and $p_1$ represent the survived ratio of male population. Then compute z statistic:"
   ]
  },
  {
   "cell_type": "code",
   "execution_count": 23,
   "metadata": {
    "collapsed": false
   },
   "outputs": [
    {
     "data": {
      "text/plain": [
       "16.218833930670097"
      ]
     },
     "execution_count": 23,
     "metadata": {},
     "output_type": "execute_result"
    }
   ],
   "source": [
    "# Use function to compute  z statistic\n",
    "z_stat_ratio_diff(314,233,577,109)"
   ]
  },
  {
   "cell_type": "markdown",
   "metadata": {},
   "source": [
    "<script type=\"text/javascript\" src=\"http://cdn.mathjax.org/mathjax/latest/MathJax.js?config=default\"></script>\n",
    "$ Z=16.22 $, as $Z>z_{0.05}$, reject the null hypothesis. We can conclude that females were more likely to be survived than males."
   ]
  },
  {
   "cell_type": "markdown",
   "metadata": {},
   "source": [
    "### (3). Here are code and result investigating the correlation between survived or not and passenger class.  \n",
    "  \n",
    "I also use Chi-squared test with hypothesis:  \n",
    "<script type=\"text/javascript\" src=\"http://cdn.mathjax.org/mathjax/latest/MathJax.js?config=default\"></script>\n",
    "$$H_0:\\textstyle\\ there\\ was\\ no\\ correlation\\ between\\ survived\\ or\\ not\\ and\\ pclass $$\n",
    "$$H_A:\\textstyle\\ there\\ was\\ a\\ correlation\\ between\\ survived\\ or\\ not\\ and\\ pclass $$\n",
    "with $\\alpha$ level at 0.05.  \n",
    "The contingency table of these two variables is as follow:"
   ]
  },
  {
   "cell_type": "code",
   "execution_count": 24,
   "metadata": {
    "collapsed": false
   },
   "outputs": [
    {
     "data": {
      "text/html": [
       "<div>\n",
       "<table border=\"1\" class=\"dataframe\">\n",
       "  <thead>\n",
       "    <tr style=\"text-align: right;\">\n",
       "      <th></th>\n",
       "      <th>Survived</th>\n",
       "      <th>UnSurvived</th>\n",
       "      <th>Sum</th>\n",
       "    </tr>\n",
       "    <tr>\n",
       "      <th>Pclass</th>\n",
       "      <th></th>\n",
       "      <th></th>\n",
       "      <th></th>\n",
       "    </tr>\n",
       "  </thead>\n",
       "  <tbody>\n",
       "    <tr>\n",
       "      <th>1</th>\n",
       "      <td>136</td>\n",
       "      <td>80</td>\n",
       "      <td>216</td>\n",
       "    </tr>\n",
       "    <tr>\n",
       "      <th>2</th>\n",
       "      <td>87</td>\n",
       "      <td>97</td>\n",
       "      <td>184</td>\n",
       "    </tr>\n",
       "    <tr>\n",
       "      <th>3</th>\n",
       "      <td>119</td>\n",
       "      <td>372</td>\n",
       "      <td>491</td>\n",
       "    </tr>\n",
       "    <tr>\n",
       "      <th>Sum</th>\n",
       "      <td>342</td>\n",
       "      <td>549</td>\n",
       "      <td>891</td>\n",
       "    </tr>\n",
       "  </tbody>\n",
       "</table>\n",
       "</div>"
      ],
      "text/plain": [
       "        Survived  UnSurvived  Sum\n",
       "Pclass                           \n",
       "1            136          80  216\n",
       "2             87          97  184\n",
       "3            119         372  491\n",
       "Sum          342         549  891"
      ]
     },
     "execution_count": 24,
     "metadata": {},
     "output_type": "execute_result"
    }
   ],
   "source": [
    "# Combine pclass and survived or not into a dataframe. Then drop records with nan\n",
    "pclass_cleaned_df = titanic_df[['Pclass', 'Survived']].dropna(axis=0)\n",
    "\n",
    "# Use the function to gennerate the contingency table of pclass and survived or not \n",
    "pclass_survived_contingency = Contingency_table(pclass_cleaned_df,'Pclass','Survived')\n",
    "pclass_survived_contingency"
   ]
  },
  {
   "cell_type": "markdown",
   "metadata": {
    "collapsed": true
   },
   "source": [
    "Then compute the Chi-squared test statistic:"
   ]
  },
  {
   "cell_type": "code",
   "execution_count": 25,
   "metadata": {
    "collapsed": false
   },
   "outputs": [
    {
     "data": {
      "text/plain": [
       "102.88898875696057"
      ]
     },
     "execution_count": 25,
     "metadata": {},
     "output_type": "execute_result"
    }
   ],
   "source": [
    "#  Use the function to compute Chi-squared value of Chi2-test between pclass and  survived or not\n",
    "Chi_value_pclass = Compute_Chi2(pclass_survived_contingency,3,2)        \n",
    "Chi_value_pclass "
   ]
  },
  {
   "cell_type": "markdown",
   "metadata": {},
   "source": [
    "<script type=\"text/javascript\" src=\"http://cdn.mathjax.org/mathjax/latest/MathJax.js?config=default\"></script>\n",
    "As the freedom degree is (3-1)*(2-1)=2, the Chi-squared critical value: $\\chi_{0.05}^{2} = 5.99$. Obviously, the value of  $\\chi^{2}$ we compute is larger than $\\chi_{0.05}^{2}$.So we can reject the null hypothesis, that means there was a correlation between survived or not and pclass  \n",
    "  \n",
    "Since we know that survived or not was related to pclass. Here is another question:  \n",
    "** Passengers of which pclass were most likely to be survived ? **  \n",
    "To answer this question, let's see the survived ratios of different pclasses.Here are code and result:"
   ]
  },
  {
   "cell_type": "code",
   "execution_count": 26,
   "metadata": {
    "collapsed": false
   },
   "outputs": [
    {
     "data": {
      "text/plain": [
       "Pclass\n",
       "1    0.629630\n",
       "2    0.472826\n",
       "3    0.242363\n",
       "Name: Survived, dtype: float64"
      ]
     },
     "execution_count": 26,
     "metadata": {},
     "output_type": "execute_result"
    }
   ],
   "source": [
    "# Compute survived ratios of each pclass\n",
    "pclass_survived_ratio = pclass_cleaned_df.groupby('Pclass')['Survived'].sum() / pclass_cleaned_df.groupby('Pclass')['Survived'].count()\n",
    "pclass_survived_ratio"
   ]
  },
  {
   "cell_type": "markdown",
   "metadata": {},
   "source": [
    "From this chart, we could say that 1st pclass passengers were most likely to be survived.  \n",
    "To verify this conclusion, I again use z-test to compare group of 1st pclass with 2nd pclass and 3rd pclass respectively. Here is the comparation of 1st pclass and 2nd pclass with hypothesis:\n",
    "<script type=\"text/javascript\" src=\"http://cdn.mathjax.org/mathjax/latest/MathJax.js?config=default\"></script>\n",
    "$$H_0:p_0 = p_1 $$\n",
    "$$H_A:p_0 >= p_1 $$\n",
    "Set $\\alpha$ level as 0.05. In the case, $p_0$ represent the survived ratio of 1st pclass population, and $p_1$ represent the survived ratio of 2nd pclass population. Then compute z statistic:"
   ]
  },
  {
   "cell_type": "code",
   "execution_count": 27,
   "metadata": {
    "collapsed": false
   },
   "outputs": [
    {
     "data": {
      "text/plain": [
       "3.146897435776384"
      ]
     },
     "execution_count": 27,
     "metadata": {},
     "output_type": "execute_result"
    }
   ],
   "source": [
    "# Use function to compute  z statistic\n",
    "z_stat_ratio_diff(216,136,184,87)"
   ]
  },
  {
   "cell_type": "markdown",
   "metadata": {},
   "source": [
    "<script type=\"text/javascript\" src=\"http://cdn.mathjax.org/mathjax/latest/MathJax.js?config=default\"></script>\n",
    "$ Z=3.15 $, as $Z>z_{0.05}$, the null hypothesis should be rejected. We can conclude that 1st pclass passengers were more likely to be survived than 2nd pclass.  \n",
    "The comparation of 1st pclass and 3rd pclass results in the same conclusion. We can say that passengers of 1st pclass were most likely to be survived."
   ]
  },
  {
   "cell_type": "markdown",
   "metadata": {},
   "source": [
    "### (4). Here are code and result investigating the correlation between survived or not and embarked port.  \n",
    "  \n",
    "I also use Chi-squared test with hypothesis:  \n",
    "<script type=\"text/javascript\" src=\"http://cdn.mathjax.org/mathjax/latest/MathJax.js?config=default\"></script>\n",
    "$$H_0:\\textstyle\\ there\\ was\\ no\\ correlation\\ between\\ survived\\ or\\ not\\ and\\ embarked\\ port $$\n",
    "$$H_A:\\textstyle\\ there\\ was\\ a\\ correlation\\ between\\ survived\\ or\\ not\\ and\\ embarked\\ port $$\n",
    "with $\\alpha$ level at 0.05.  \n",
    "The contingency table of these two variables is as follow:"
   ]
  },
  {
   "cell_type": "code",
   "execution_count": 28,
   "metadata": {
    "collapsed": false
   },
   "outputs": [
    {
     "data": {
      "text/html": [
       "<div>\n",
       "<table border=\"1\" class=\"dataframe\">\n",
       "  <thead>\n",
       "    <tr style=\"text-align: right;\">\n",
       "      <th></th>\n",
       "      <th>Survived</th>\n",
       "      <th>UnSurvived</th>\n",
       "      <th>Sum</th>\n",
       "    </tr>\n",
       "    <tr>\n",
       "      <th>Embarked</th>\n",
       "      <th></th>\n",
       "      <th></th>\n",
       "      <th></th>\n",
       "    </tr>\n",
       "  </thead>\n",
       "  <tbody>\n",
       "    <tr>\n",
       "      <th>C</th>\n",
       "      <td>93</td>\n",
       "      <td>75</td>\n",
       "      <td>168</td>\n",
       "    </tr>\n",
       "    <tr>\n",
       "      <th>Q</th>\n",
       "      <td>30</td>\n",
       "      <td>47</td>\n",
       "      <td>77</td>\n",
       "    </tr>\n",
       "    <tr>\n",
       "      <th>S</th>\n",
       "      <td>217</td>\n",
       "      <td>427</td>\n",
       "      <td>644</td>\n",
       "    </tr>\n",
       "    <tr>\n",
       "      <th>Sum</th>\n",
       "      <td>340</td>\n",
       "      <td>549</td>\n",
       "      <td>889</td>\n",
       "    </tr>\n",
       "  </tbody>\n",
       "</table>\n",
       "</div>"
      ],
      "text/plain": [
       "          Survived  UnSurvived  Sum\n",
       "Embarked                           \n",
       "C               93          75  168\n",
       "Q               30          47   77\n",
       "S              217         427  644\n",
       "Sum            340         549  889"
      ]
     },
     "execution_count": 28,
     "metadata": {},
     "output_type": "execute_result"
    }
   ],
   "source": [
    "# Combine embarked and survived or not into a dataframe. Then drop records with nan\n",
    "embarked_cleaned_df = titanic_df[['Embarked', 'Survived']].dropna(axis=0)\n",
    "\n",
    "# Use the function to gennerate the contingency table of embarked port and survived or not \n",
    "embarked_survived_contingency = Contingency_table(embarked_cleaned_df,'Embarked','Survived')\n",
    "embarked_survived_contingency"
   ]
  },
  {
   "cell_type": "markdown",
   "metadata": {},
   "source": [
    "Then compute the Chi-squared test statistic:"
   ]
  },
  {
   "cell_type": "code",
   "execution_count": 29,
   "metadata": {
    "collapsed": false
   },
   "outputs": [
    {
     "data": {
      "text/plain": [
       "26.489149839237619"
      ]
     },
     "execution_count": 29,
     "metadata": {},
     "output_type": "execute_result"
    }
   ],
   "source": [
    "#  Use the function to compute Chi-squared value of Chi2-test between embarked port and  survived or not\n",
    "Chi_value_embarked  = Compute_Chi2(embarked_survived_contingency,3,2)        \n",
    "Chi_value_embarked "
   ]
  },
  {
   "cell_type": "markdown",
   "metadata": {},
   "source": [
    "<script type=\"text/javascript\" src=\"http://cdn.mathjax.org/mathjax/latest/MathJax.js?config=default\"></script>\n",
    "As the freedom degree is (3-1)*(2-1)=2, the Chi-squared critical value: $\\chi_{0.05}^{2} = 5.99$. Obviously, the value of  $\\chi^{2}$ we compute is larger than $\\chi_{0.05}^{2}$.So we can reject the null hypothesis, that means there was a correlation between survived or not and embarked port\n",
    "  \n",
    "Since we know that survived or not was related to embarked port. Here is another question:  \n",
    "** Passengers from which port were most likely to be survived ? **  \n",
    "To answer this question, let's see the survived ratios of different embarked ports.Here are code and result:"
   ]
  },
  {
   "cell_type": "code",
   "execution_count": 30,
   "metadata": {
    "collapsed": false
   },
   "outputs": [
    {
     "data": {
      "text/plain": [
       "Embarked\n",
       "C    0.553571\n",
       "Q    0.389610\n",
       "S    0.336957\n",
       "Name: Survived, dtype: float64"
      ]
     },
     "execution_count": 30,
     "metadata": {},
     "output_type": "execute_result"
    }
   ],
   "source": [
    "# Compute survived ratios of each port\n",
    "embarked_survived_ratio = embarked_cleaned_df.groupby('Embarked')['Survived'].sum() / embarked_cleaned_df.groupby('Embarked')['Survived'].count()\n",
    "embarked_survived_ratio"
   ]
  },
  {
   "cell_type": "markdown",
   "metadata": {},
   "source": [
    "From this chart, we could say that passengers from Cherbourg were most likely to be survived.  \n",
    "To verify this conclusion, I again use z-test to compare group of Cherbourg with Queenstown and Southampton respectively. Here is the comparation of Cherbourg and Queenstown with hypothesis:\n",
    "<script type=\"text/javascript\" src=\"http://cdn.mathjax.org/mathjax/latest/MathJax.js?config=default\"></script>\n",
    "$$H_0:p_0 = p_1 $$\n",
    "$$H_A:p_0 >= p_1 $$\n",
    "Set $\\alpha$ level as 0.05. In the case, $p_0$ represent the survived ratio of Cherbourg's passenger population, and $p_1$ represent the survived ratio of Queenstown's passenger population. Then compute z statistic:"
   ]
  },
  {
   "cell_type": "code",
   "execution_count": 31,
   "metadata": {
    "collapsed": false
   },
   "outputs": [
    {
     "data": {
      "text/plain": [
       "2.3828199974549413"
      ]
     },
     "execution_count": 31,
     "metadata": {},
     "output_type": "execute_result"
    }
   ],
   "source": [
    "# Use function to compute  z statistic\n",
    "z_stat_ratio_diff(168,93,77,30)"
   ]
  },
  {
   "cell_type": "markdown",
   "metadata": {},
   "source": [
    "<script type=\"text/javascript\" src=\"http://cdn.mathjax.org/mathjax/latest/MathJax.js?config=default\"></script>\n",
    "$ Z=2.38 $, as $Z>z_{0.05}$,the null hypothesis should be rejected. We can conclude that passengers from Cherbourg were more likely to be survived than those from Queenstown.  \n",
    "The comparation of Cherbourg and Southampton results in the same conclusion. We can say that passengers from Cherbourg were most likely to be survived."
   ]
  },
  {
   "cell_type": "markdown",
   "metadata": {},
   "source": [
    "### Conclusion  \n",
    "In conlusion, passengers survived or not was related to age, sex, pclass and embarked port. In terms of age, passengers less than 10 year old were most likely to be survived. In terms of sex, femals were more likely to be survived than males. In terms of pclass, 1st class passengers were most likely to be survived. In terms of embarked port, passengers from Southampton were most likely to be survived."
   ]
  },
  {
   "cell_type": "markdown",
   "metadata": {},
   "source": [
    "## 3. Difference of age distributions in three passenger classes  \n",
    "The investigation is caused by the questions:  \n",
    "** Were the passengers of 1st class older than 2nd class as a whole ? **  \n",
    "** Were the passengers of 2nd class older than 3rd class as a whole ? **    \n",
    "  \n",
    "In order to answer these questions, let's see the sample histograms of three groups.  \n",
    "Here are code and histograms:"
   ]
  },
  {
   "cell_type": "code",
   "execution_count": 32,
   "metadata": {
    "collapsed": false
   },
   "outputs": [
    {
     "name": "stdout",
     "output_type": "stream",
     "text": [
      "Populating the interactive namespace from numpy and matplotlib\n"
     ]
    },
    {
     "data": {
      "image/png": "[encoded data removed]",
      "text/plain": [
       "<matplotlib.figure.Figure at 0x11131f610>"
      ]
     },
     "metadata": {},
     "output_type": "display_data"
    }
   ],
   "source": [
    "%pylab inline\n",
    "fig = plt.figure()\n",
    "fig.set_figheight(9)\n",
    "st = fig.suptitle(\"Histograms of Age in Different Pclasses\", fontsize=\"x-large\")\n",
    "\n",
    "ax1 = fig.add_subplot(311)\n",
    "ax1.hist(titanic_df[titanic_df['Pclass']==1]['Age'], bins=8, range=(0,80))\n",
    "ax1.set_title(\"1st Pclass\")\n",
    "ax1.set_xlabel('Age')\n",
    "ax1.xaxis.set_label_coords(1.06, -0.005)\n",
    "ax1.set_ylabel('Frequency')\n",
    "\n",
    "\n",
    "ax2 = fig.add_subplot(312)\n",
    "ax2.hist(titanic_df[titanic_df['Pclass']==2]['Age'], bins=8, range=(0,80))\n",
    "ax2.set_title(\"2nd Pclass\")\n",
    "ax2.set_xlabel('Age')\n",
    "ax2.xaxis.set_label_coords(1.06, -0.005)\n",
    "ax2.set_ylabel('Frequency')\n",
    "\n",
    "ax3 = fig.add_subplot(313)\n",
    "ax3.hist(titanic_df[titanic_df['Pclass']==3]['Age'], bins=8, range=(0,80))\n",
    "ax3.set_title(\"3rd Pclass\")\n",
    "ax3.set_xlabel('Age')\n",
    "ax3.xaxis.set_label_coords(1.06, -0.005)\n",
    "ax3.set_ylabel('Frequency')\n",
    "\n",
    "fig.tight_layout()\n",
    "st.set_y(0.95)\n",
    "fig.subplots_adjust(top=0.85)"
   ]
  },
  {
   "cell_type": "markdown",
   "metadata": {
    "collapsed": true
   },
   "source": [
    "From sample histograms, it seems that 1st class passengers were older than 2nd class, while 2st class passengers were older than 3nd class as a whole.  \n",
    "To verify this conclusion, as sample sizes of these three populations are all large enough (larger than 30), I use z-test to compare the average age of 1st class passengers and 2nd class, 2st class passengers and 3nd class respectively. Here is the comparation of 1st class and 2nd class with hypothesis:\n",
    "<script type=\"text/javascript\" src=\"http://cdn.mathjax.org/mathjax/latest/MathJax.js?config=default\"></script>\n",
    "$$H_0:\\mu_0 - \\mu_1 = 0 $$\n",
    "$$H_A:\\mu_0 - \\mu_1 >= 0 $$\n",
    "Set $\\alpha$ level as 0.05. In the case, $\\mu_0$ represent the average age of 1st class passengers' population, and $\\mu_1$ represent the average age of 2nd class passengers' population.   \n",
    "First, Let's compute some statistics:"
   ]
  },
  {
   "cell_type": "code",
   "execution_count": 33,
   "metadata": {
    "collapsed": false,
    "scrolled": true
   },
   "outputs": [
    {
     "name": "stdout",
     "output_type": "stream",
     "text": [
      "Sample sizes:\n",
      "        Age\n",
      "Pclass     \n",
      "1       186\n",
      "2       173\n",
      "3       355\n",
      "\n",
      " Sample means:\n",
      "              Age\n",
      "Pclass           \n",
      "1       38.233441\n",
      "2       29.877630\n",
      "3       25.140620\n",
      "\n",
      " Sample standard deviations:\n",
      "              Age\n",
      "Pclass           \n",
      "1       14.802856\n",
      "2       14.001077\n",
      "3       12.495398\n"
     ]
    }
   ],
   "source": [
    "pclass_age_df = titanic_df[['Pclass','Age']].dropna(axis=0) # Drop records with nan\n",
    "pclass_age_size = pclass_age_df.groupby('Pclass').count()  # Compute amount of each pclass\n",
    "pclass_age_mean = pclass_age_df.groupby('Pclass').mean()  # Compute mean age of each pclass\n",
    "pclass_age_std = pclass_age_df.groupby('Pclass').std(ddof=1)  # Compute sample sd of each pclass\n",
    "print 'Sample sizes:'\n",
    "print pclass_age_size\n",
    "print '\\n Sample means:'\n",
    "print pclass_age_mean\n",
    "print '\\n Sample standard deviations:'\n",
    "print pclass_age_std"
   ]
  },
  {
   "cell_type": "markdown",
   "metadata": {},
   "source": [
    "Then compute z statistic:  \n",
    "  \n",
    "<script type=\"text/javascript\" src=\"http://cdn.mathjax.org/mathjax/latest/MathJax.js?config=default\"></script>\n",
    "$$\\bar{x_0} = 38.23, \\bar{x_1} = 29.88 ,n_0 = 186,n_1 = 173, s_0 = 14.80, s_1 = 14.00 $$\n",
    "  \n",
    "$$z = \\frac{\\bar{x_0} - \\bar{x_1}}{\\sqrt{\\frac{(s_0)^2}{n_0} + \\frac{(s_1)^2}{n_1}}} = 5.49 $$  \n",
    "  \n",
    "As $ z > z_{0.05}$, the null hypothesis should be rejected. We can conclude that the average age of 1st class was larger than 2nd class.\n",
    "After doing the same test on 2nd class and 3rd class, it shows the average age of 2nd class was larger than 3rd class .  \n",
    "  \n",
    "Besides the average of age, let's see the median, upper and lower quartiles of ages in three groups. We use box plot to show those three statistics:"
   ]
  },
  {
   "cell_type": "code",
   "execution_count": 34,
   "metadata": {
    "collapsed": false
   },
   "outputs": [
    {
     "name": "stdout",
     "output_type": "stream",
     "text": [
      "Populating the interactive namespace from numpy and matplotlib\n"
     ]
    },
    {
     "data": {
      "image/png": "[encoded data removed]",
      "text/plain": [
       "<matplotlib.figure.Figure at 0x11051ff10>"
      ]
     },
     "metadata": {},
     "output_type": "display_data"
    }
   ],
   "source": [
    "%pylab inline\n",
    "pclass_age_df = titanic_df[['Pclass','Age']].dropna(axis=0)\n",
    "plt.xlabel('Pclass')\n",
    "plt.ylabel('Age')\n",
    "plt.title('Box Plot of Ages in Three Plasses')\n",
    "plt.boxplot([tuple(pclass_age_df[pclass_age_df['Pclass']==1]['Age']),tuple(pclass_age_df[pclass_age_df['Pclass']==2]['Age']),tuple(pclass_age_df[pclass_age_df['Pclass']==3]['Age'])])\n",
    "plt.show()"
   ]
  },
  {
   "cell_type": "markdown",
   "metadata": {},
   "source": [
    "From the box plot, we can see that median, upper and lower quartiles of three groups have the same tendency: \n",
    "1st class > 2 nd class > 3rd class  "
   ]
  },
  {
   "cell_type": "markdown",
   "metadata": {},
   "source": [
    "### Conclusion  \n",
    "In conclusion, 1st class passengers were older than 2nd class as a whole, while 2nd class passengers were older than 3rd class."
   ]
  },
  {
   "cell_type": "markdown",
   "metadata": {},
   "source": [
    "## Reference  \n",
    "  \n",
    "* https://www.kaggle.com/c/titanic/data\n",
    "* http://matplotlib.org/\n",
    "* https://en.wikipedia.org/wiki/Contingency_table\n",
    "* https://en.wikipedia.org/wiki/Chi-squared_test\n",
    "* https://onlinecourses.science.psu.edu/stat414/node/268\n",
    "* http://www.stat.ucla.edu/~cochran/stat10/winter/lectures/lect21.html\n",
    "* https://guides.github.com/features/mastering-markdown/\n",
    "* http://meta.math.stackexchange.com/questions/5020/mathjax-basic-tutorial-and-quick-reference"
   ]
  }
 ],
 "metadata": {
  "anaconda-cloud": {},
  "kernelspec": {
   "display_name": "Python 2",
   "language": "python",
   "name": "python2"
  },
  "language_info": {
   "codemirror_mode": {
    "name": "ipython",
    "version": 2
   },
   "file_extension": ".py",
   "mimetype": "text/x-python",
   "name": "python",
   "nbconvert_exporter": "python",
   "pygments_lexer": "ipython2",
   "version": "2.7.12"
  }
 },
 "nbformat": 4,
 "nbformat_minor": 0
}
